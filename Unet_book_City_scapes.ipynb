{
  "cells": [
    {
      "cell_type": "markdown",
      "metadata": {
        "id": "IjpvOXTN1W7z"
      },
      "source": [
        "## Cityscapes Image Pairs Kaggle | Visual segmentation task using U-Net\n",
        "#### Dataset and authors available here: https://www.kaggle.com/datasets/dansbecker/cityscapes-image-pairs/code"
      ]
    },
    {
      "cell_type": "markdown",
      "metadata": {},
      "source": [
        "#Optional: check if train/label pairs are loaded in the same order"
      ]
    },
    {
      "cell_type": "code",
      "execution_count": null,
      "metadata": {
        "colab": {
          "base_uri": "https://localhost:8080/"
        },
        "id": "Er-Is8pk4ZYY",
        "outputId": "da4f351a-a497-4b6a-a061-304e0dee5eb5"
      },
      "outputs": [
        {
          "name": "stdout",
          "output_type": "stream",
          "text": [
            "True\n",
            "True\n"
          ]
        }
      ],
      "source": [
        "'''\n",
        "import re\n",
        "y = tf.data.Dataset.list_files('/content/drive/MyDrive/city_scapes/train/label/*.png',shuffle=False)\n",
        "x = tf.data.Dataset.list_files('/content/drive/MyDrive/city_scapes/train/img/*.png',shuffle=False)\n",
        "indx=np.array([re.findall('\\d+',str(i.numpy()))[0] for i in x],dtype='int32')\n",
        "indy=np.array([re.findall('\\d+',str(i.numpy()))[0] for i in y],dtype='int32')\n",
        "print((indx==indy).all())\n",
        "\n",
        "y = tf.data.Dataset.list_files('/content/drive/MyDrive/city_scapes/val/label/*.png',shuffle=False)\n",
        "x = tf.data.Dataset.list_files('/content/drive/MyDrive/city_scapes/val/img/*.png',shuffle=False)\n",
        "\n",
        "indx=np.array([re.findall('\\d+',str(i.numpy()))[0] for i in x],dtype='int32')\n",
        "indy=np.array([re.findall('\\d+',str(i.numpy()))[0] for i in y],dtype='int32')\n",
        "print((indx==indy).all())\n",
        "#np.array([i.numpy() for i in y],dtype='str')\n",
        "'''"
      ]
    },
    {
      "cell_type": "markdown",
      "metadata": {},
      "source": [
        "##### Preprocess label masks to obtain limited set of colors (corresponding to 8 different objects, including background)"
      ]
    },
    {
      "cell_type": "code",
      "execution_count": null,
      "metadata": {},
      "outputs": [],
      "source": [
        "# Preprocessing masks to obtain pixels restrained to 8 mask object colors.\n",
        "'''\n",
        "import cv2\n",
        "import scipy.misc\n",
        "from PIL import Image\n",
        "import os\n",
        "fnames=os.listdir('/content/drive/MyDrive/city_scapes/val/label/')\n",
        "\n",
        "rgb_codes={'yellow':[218,220,4],'purple':[128,63,127],'blue':[0,0,142],'gray':[70,70,70],'green':[106,142,34],'lgreen':[153, 251, 151],'pink':[243, 35, 232]}\n",
        "replace_codes=[[0,255,0],[0,0,255],[255,0,0],[100,100,100],[10,70,70],[40,20,20],[200,200,200]]\n",
        "\n",
        "rgb_color=[np.array([[i]],dtype=np.uint8) for i in rgb_codes.values()]\n",
        "lab_codes=[cv2.cvtColor(i,cv2.COLOR_RGB2LAB) for i in rgb_color]\n",
        "lab_codes=[lab_codes[i][0][0].tolist() for i in range(len(lab_codes))]\n",
        "\n",
        "for i in fnames:\n",
        "  mask_path=\"/content/drive/MyDrive/city_scapes/val/label/\"+i\n",
        "  image = cv2.imread(mask_path)\n",
        "  result=image.copy()\n",
        "\n",
        "  for i,k in zip(lab_codes, replace_codes):\n",
        "    lab_image=cv2.cvtColor(image,cv2.COLOR_RGB2LAB)\n",
        "    target_lab = i\n",
        "    threshold = 20\n",
        "    distance = np.sqrt(np.sum((lab_image - target_lab) ** 2, axis=2))\n",
        "    mask = distance < threshold\n",
        "    target_rgb = k\n",
        "    result[mask] = target_rgb\n",
        "\n",
        "  result=result.reshape((-1,3))\n",
        "  remainder_ind=list(map(lambda x: ~np.isin(x,np.array(replace_codes)).all(), result))\n",
        "  result[remainder_ind]=[0,0,0]\n",
        "  result=result.reshape((96,256,3))\n",
        "  im=Image.fromarray(result,mode=\"RGB\")\n",
        "  im.save(mask_path)\n",
        "'''\n",
        "\n"
      ]
    },
    {
      "cell_type": "markdown",
      "metadata": {},
      "source": [
        "##### Load the train and validation sets after preprocessing.\n",
        "##### Transform label masks so that each picture is converted from 96x256x3 to 96x256, with each element in the resulting array indicating \n",
        "##### whether one of the target colors (0 through 7, with 0 being background) is present at the corresponding location."
      ]
    },
    {
      "cell_type": "code",
      "execution_count": 1,
      "metadata": {
        "id": "fxwFVbOoMt4F"
      },
      "outputs": [],
      "source": [
        "import tensorflow as tf\n",
        "import numpy as np\n",
        "\n",
        "y = tf.data.Dataset.list_files('/content/drive/MyDrive/city_scapes/train/label/*.png',shuffle=False)\n",
        "x = tf.data.Dataset.list_files('/content/drive/MyDrive/city_scapes/train/img/*.png',shuffle=False)\n",
        "y_val = tf.data.Dataset.list_files('/content/drive/MyDrive/city_scapes/val/label/*.png',shuffle=False)\n",
        "x_val = tf.data.Dataset.list_files('/content/drive/MyDrive/city_scapes/val/img/*.png',shuffle=False)\n",
        "y=list(y.map(lambda y: tf.image.decode_png(tf.io.read_file(y),channels=3,dtype='uint8')))\n",
        "x=list(x.map(lambda x: tf.image.decode_png(tf.io.read_file(x),channels=3,dtype='uint8')/255))\n",
        "y_val=list(y_val.map(lambda y: tf.image.decode_png(tf.io.read_file(y),channels=3,dtype='uint8')))\n",
        "x_val=list(x_val.map(lambda x: tf.image.decode_png(tf.io.read_file(x),channels=3,dtype='uint8')/255))\n",
        "\n",
        "targetrgb=tf.constant([[0,0,0],[0,255,0],[0,0,255],[255,0,0],[100,100,100],[10,70,70],[40,20,20],[200,200,200]],dtype='uint8')\n",
        "targetlabel=tf.constant([0,1,2,3,4,5,6,7],dtype='uint8')\n",
        "\n",
        "def prepare_dataset(x,y):\n",
        "  for loc,i in enumerate(y):\n",
        "    pic=i\n",
        "    list_indices=[]\n",
        "    list_updates=[]\n",
        "    for k,c in zip(targetrgb,targetlabel):\n",
        "      logical=tf.equal(pic,k)\n",
        "      logical=tf.reduce_all(logical,axis=2)\n",
        "      indices=tf.where(logical)\n",
        "      indices=tf.cast(indices,'int32')\n",
        "      list_indices.append(indices)\n",
        "      list_updates.append(tf.repeat([c],repeats=indices.shape[0],axis=0))\n",
        "    list_indices=tf.concat(list_indices,axis=0)\n",
        "    list_updates=tf.concat(list_updates,axis=0)\n",
        "\n",
        "    image_arr=tf.scatter_nd(list_indices,list_updates,[96,256])\n",
        "    image_arr=tf.one_hot(image_arr,depth=len(targetlabel),dtype='uint8')\n",
        "    y[loc]=image_arr\n",
        "\n",
        "  df=tf.data.Dataset.from_tensor_slices((x,y))\n",
        "  return df\n",
        "\n",
        "train_dataset=prepare_dataset(x,y)\n",
        "val_dataset=prepare_dataset(x_val,y_val)\n",
        "\n",
        "#label_preprocessed_df=tf.data.Dataset.from_tensor_slices(y)\n",
        "#label_preprocessed_df.save('/content/drive/MyDrive/')\n"
      ]
    },
    {
      "cell_type": "markdown",
      "metadata": {},
      "source": [
        "#### Define the model, prepare both datasets and fit the model"
      ]
    },
    {
      "cell_type": "code",
      "execution_count": 2,
      "metadata": {
        "colab": {
          "base_uri": "https://localhost:8080/"
        },
        "id": "42bJkUwm1drG",
        "outputId": "7596406b-d5cb-499b-d5e1-a28fcbc9ecd0"
      },
      "outputs": [
        {
          "name": "stdout",
          "output_type": "stream",
          "text": [
            "Epoch 1/50\n",
            "\u001b[1m186/186\u001b[0m \u001b[32m━━━━━━━━━━━━━━━━━━━━\u001b[0m\u001b[37m\u001b[0m \u001b[1m0s\u001b[0m 114ms/step - accuracy: 0.3157 - loss: 1.7009\n",
            "Epoch 1: val_loss improved from inf to 1.02724, saving model to best_model.keras\n",
            "\u001b[1m186/186\u001b[0m \u001b[32m━━━━━━━━━━━━━━━━━━━━\u001b[0m\u001b[37m\u001b[0m \u001b[1m53s\u001b[0m 146ms/step - accuracy: 0.3163 - loss: 1.6994 - val_accuracy: 0.6205 - val_loss: 1.0272\n",
            "Epoch 2/50\n",
            "\u001b[1m185/186\u001b[0m \u001b[32m━━━━━━━━━━━━━━━━━━━\u001b[0m\u001b[37m━\u001b[0m \u001b[1m0s\u001b[0m 39ms/step - accuracy: 0.6522 - loss: 0.9367\n",
            "Epoch 2: val_loss improved from 1.02724 to 0.80707, saving model to best_model.keras\n",
            "\u001b[1m186/186\u001b[0m \u001b[32m━━━━━━━━━━━━━━━━━━━━\u001b[0m\u001b[37m\u001b[0m \u001b[1m10s\u001b[0m 54ms/step - accuracy: 0.6524 - loss: 0.9360 - val_accuracy: 0.7072 - val_loss: 0.8071\n",
            "Epoch 3/50\n",
            "\u001b[1m186/186\u001b[0m \u001b[32m━━━━━━━━━━━━━━━━━━━━\u001b[0m\u001b[37m\u001b[0m \u001b[1m0s\u001b[0m 39ms/step - accuracy: 0.7104 - loss: 0.7784\n",
            "Epoch 3: val_loss improved from 0.80707 to 0.70601, saving model to best_model.keras\n",
            "\u001b[1m186/186\u001b[0m \u001b[32m━━━━━━━━━━━━━━━━━━━━\u001b[0m\u001b[37m\u001b[0m \u001b[1m10s\u001b[0m 54ms/step - accuracy: 0.7105 - loss: 0.7782 - val_accuracy: 0.7325 - val_loss: 0.7060\n",
            "Epoch 4/50\n",
            "\u001b[1m186/186\u001b[0m \u001b[32m━━━━━━━━━━━━━━━━━━━━\u001b[0m\u001b[37m\u001b[0m \u001b[1m0s\u001b[0m 39ms/step - accuracy: 0.7506 - loss: 0.6659\n",
            "Epoch 4: val_loss improved from 0.70601 to 0.63289, saving model to best_model.keras\n",
            "\u001b[1m186/186\u001b[0m \u001b[32m━━━━━━━━━━━━━━━━━━━━\u001b[0m\u001b[37m\u001b[0m \u001b[1m10s\u001b[0m 54ms/step - accuracy: 0.7506 - loss: 0.6659 - val_accuracy: 0.7633 - val_loss: 0.6329\n",
            "Epoch 5/50\n",
            "\u001b[1m185/186\u001b[0m \u001b[32m━━━━━━━━━━━━━━━━━━━\u001b[0m\u001b[37m━\u001b[0m \u001b[1m0s\u001b[0m 39ms/step - accuracy: 0.7612 - loss: 0.6396\n",
            "Epoch 5: val_loss improved from 0.63289 to 0.58501, saving model to best_model.keras\n",
            "\u001b[1m186/186\u001b[0m \u001b[32m━━━━━━━━━━━━━━━━━━━━\u001b[0m\u001b[37m\u001b[0m \u001b[1m10s\u001b[0m 54ms/step - accuracy: 0.7613 - loss: 0.6392 - val_accuracy: 0.7803 - val_loss: 0.5850\n",
            "Epoch 6/50\n",
            "\u001b[1m186/186\u001b[0m \u001b[32m━━━━━━━━━━━━━━━━━━━━\u001b[0m\u001b[37m\u001b[0m \u001b[1m0s\u001b[0m 39ms/step - accuracy: 0.7876 - loss: 0.5703\n",
            "Epoch 6: val_loss improved from 0.58501 to 0.56653, saving model to best_model.keras\n",
            "\u001b[1m186/186\u001b[0m \u001b[32m━━━━━━━━━━━━━━━━━━━━\u001b[0m\u001b[37m\u001b[0m \u001b[1m10s\u001b[0m 53ms/step - accuracy: 0.7876 - loss: 0.5703 - val_accuracy: 0.7895 - val_loss: 0.5665\n",
            "Epoch 7/50\n",
            "\u001b[1m186/186\u001b[0m \u001b[32m━━━━━━━━━━━━━━━━━━━━\u001b[0m\u001b[37m\u001b[0m \u001b[1m0s\u001b[0m 39ms/step - accuracy: 0.7986 - loss: 0.5413\n",
            "Epoch 7: val_loss improved from 0.56653 to 0.53571, saving model to best_model.keras\n",
            "\u001b[1m186/186\u001b[0m \u001b[32m━━━━━━━━━━━━━━━━━━━━\u001b[0m\u001b[37m\u001b[0m \u001b[1m10s\u001b[0m 54ms/step - accuracy: 0.7986 - loss: 0.5413 - val_accuracy: 0.8023 - val_loss: 0.5357\n",
            "Epoch 8/50\n",
            "\u001b[1m185/186\u001b[0m \u001b[32m━━━━━━━━━━━━━━━━━━━\u001b[0m\u001b[37m━\u001b[0m \u001b[1m0s\u001b[0m 39ms/step - accuracy: 0.8050 - loss: 0.5258\n",
            "Epoch 8: val_loss improved from 0.53571 to 0.49316, saving model to best_model.keras\n",
            "\u001b[1m186/186\u001b[0m \u001b[32m━━━━━━━━━━━━━━━━━━━━\u001b[0m\u001b[37m\u001b[0m \u001b[1m10s\u001b[0m 53ms/step - accuracy: 0.8050 - loss: 0.5257 - val_accuracy: 0.8168 - val_loss: 0.4932\n",
            "Epoch 9/50\n",
            "\u001b[1m186/186\u001b[0m \u001b[32m━━━━━━━━━━━━━━━━━━━━\u001b[0m\u001b[37m\u001b[0m \u001b[1m0s\u001b[0m 39ms/step - accuracy: 0.8146 - loss: 0.4962\n",
            "Epoch 9: val_loss improved from 0.49316 to 0.47514, saving model to best_model.keras\n",
            "\u001b[1m186/186\u001b[0m \u001b[32m━━━━━━━━━━━━━━━━━━━━\u001b[0m\u001b[37m\u001b[0m \u001b[1m10s\u001b[0m 53ms/step - accuracy: 0.8147 - loss: 0.4961 - val_accuracy: 0.8240 - val_loss: 0.4751\n",
            "Epoch 10/50\n",
            "\u001b[1m185/186\u001b[0m \u001b[32m━━━━━━━━━━━━━━━━━━━\u001b[0m\u001b[37m━\u001b[0m \u001b[1m0s\u001b[0m 39ms/step - accuracy: 0.8222 - loss: 0.4761\n",
            "Epoch 10: val_loss improved from 0.47514 to 0.46898, saving model to best_model.keras\n",
            "\u001b[1m186/186\u001b[0m \u001b[32m━━━━━━━━━━━━━━━━━━━━\u001b[0m\u001b[37m\u001b[0m \u001b[1m10s\u001b[0m 53ms/step - accuracy: 0.8222 - loss: 0.4760 - val_accuracy: 0.8253 - val_loss: 0.4690\n",
            "Epoch 11/50\n",
            "\u001b[1m186/186\u001b[0m \u001b[32m━━━━━━━━━━━━━━━━━━━━\u001b[0m\u001b[37m\u001b[0m \u001b[1m0s\u001b[0m 39ms/step - accuracy: 0.8289 - loss: 0.4577\n",
            "Epoch 11: val_loss improved from 0.46898 to 0.45852, saving model to best_model.keras\n",
            "\u001b[1m186/186\u001b[0m \u001b[32m━━━━━━━━━━━━━━━━━━━━\u001b[0m\u001b[37m\u001b[0m \u001b[1m10s\u001b[0m 54ms/step - accuracy: 0.8289 - loss: 0.4576 - val_accuracy: 0.8289 - val_loss: 0.4585\n",
            "Epoch 12/50\n",
            "\u001b[1m185/186\u001b[0m \u001b[32m━━━━━━━━━━━━━━━━━━━\u001b[0m\u001b[37m━\u001b[0m \u001b[1m0s\u001b[0m 39ms/step - accuracy: 0.8359 - loss: 0.4368\n",
            "Epoch 12: val_loss improved from 0.45852 to 0.43295, saving model to best_model.keras\n",
            "\u001b[1m186/186\u001b[0m \u001b[32m━━━━━━━━━━━━━━━━━━━━\u001b[0m\u001b[37m\u001b[0m \u001b[1m10s\u001b[0m 53ms/step - accuracy: 0.8359 - loss: 0.4368 - val_accuracy: 0.8391 - val_loss: 0.4330\n",
            "Epoch 13/50\n",
            "\u001b[1m186/186\u001b[0m \u001b[32m━━━━━━━━━━━━━━━━━━━━\u001b[0m\u001b[37m\u001b[0m \u001b[1m0s\u001b[0m 39ms/step - accuracy: 0.8376 - loss: 0.4341\n",
            "Epoch 13: val_loss improved from 0.43295 to 0.42827, saving model to best_model.keras\n",
            "\u001b[1m186/186\u001b[0m \u001b[32m━━━━━━━━━━━━━━━━━━━━\u001b[0m\u001b[37m\u001b[0m \u001b[1m10s\u001b[0m 53ms/step - accuracy: 0.8376 - loss: 0.4341 - val_accuracy: 0.8412 - val_loss: 0.4283\n",
            "Epoch 14/50\n",
            "\u001b[1m185/186\u001b[0m \u001b[32m━━━━━━━━━━━━━━━━━━━\u001b[0m\u001b[37m━\u001b[0m \u001b[1m0s\u001b[0m 39ms/step - accuracy: 0.8409 - loss: 0.4237\n",
            "Epoch 14: val_loss improved from 0.42827 to 0.40236, saving model to best_model.keras\n",
            "\u001b[1m186/186\u001b[0m \u001b[32m━━━━━━━━━━━━━━━━━━━━\u001b[0m\u001b[37m\u001b[0m \u001b[1m10s\u001b[0m 53ms/step - accuracy: 0.8410 - loss: 0.4236 - val_accuracy: 0.8486 - val_loss: 0.4024\n",
            "Epoch 15/50\n",
            "\u001b[1m185/186\u001b[0m \u001b[32m━━━━━━━━━━━━━━━━━━━\u001b[0m\u001b[37m━\u001b[0m \u001b[1m0s\u001b[0m 39ms/step - accuracy: 0.8527 - loss: 0.3901\n",
            "Epoch 15: val_loss did not improve from 0.40236\n",
            "\u001b[1m186/186\u001b[0m \u001b[32m━━━━━━━━━━━━━━━━━━━━\u001b[0m\u001b[37m\u001b[0m \u001b[1m8s\u001b[0m 43ms/step - accuracy: 0.8527 - loss: 0.3901 - val_accuracy: 0.8431 - val_loss: 0.4223\n",
            "Epoch 16/50\n",
            "\u001b[1m185/186\u001b[0m \u001b[32m━━━━━━━━━━━━━━━━━━━\u001b[0m\u001b[37m━\u001b[0m \u001b[1m0s\u001b[0m 39ms/step - accuracy: 0.8561 - loss: 0.3803\n",
            "Epoch 16: val_loss improved from 0.40236 to 0.39981, saving model to best_model.keras\n",
            "\u001b[1m186/186\u001b[0m \u001b[32m━━━━━━━━━━━━━━━━━━━━\u001b[0m\u001b[37m\u001b[0m \u001b[1m10s\u001b[0m 53ms/step - accuracy: 0.8560 - loss: 0.3803 - val_accuracy: 0.8518 - val_loss: 0.3998\n",
            "Epoch 17/50\n",
            "\u001b[1m185/186\u001b[0m \u001b[32m━━━━━━━━━━━━━━━━━━━\u001b[0m\u001b[37m━\u001b[0m \u001b[1m0s\u001b[0m 39ms/step - accuracy: 0.8567 - loss: 0.3783\n",
            "Epoch 17: val_loss improved from 0.39981 to 0.37181, saving model to best_model.keras\n",
            "\u001b[1m186/186\u001b[0m \u001b[32m━━━━━━━━━━━━━━━━━━━━\u001b[0m\u001b[37m\u001b[0m \u001b[1m10s\u001b[0m 52ms/step - accuracy: 0.8568 - loss: 0.3782 - val_accuracy: 0.8593 - val_loss: 0.3718\n",
            "Epoch 18/50\n",
            "\u001b[1m185/186\u001b[0m \u001b[32m━━━━━━━━━━━━━━━━━━━\u001b[0m\u001b[37m━\u001b[0m \u001b[1m0s\u001b[0m 39ms/step - accuracy: 0.8627 - loss: 0.3641\n",
            "Epoch 18: val_loss improved from 0.37181 to 0.35612, saving model to best_model.keras\n",
            "\u001b[1m186/186\u001b[0m \u001b[32m━━━━━━━━━━━━━━━━━━━━\u001b[0m\u001b[37m\u001b[0m \u001b[1m10s\u001b[0m 53ms/step - accuracy: 0.8627 - loss: 0.3641 - val_accuracy: 0.8662 - val_loss: 0.3561\n",
            "Epoch 19/50\n",
            "\u001b[1m186/186\u001b[0m \u001b[32m━━━━━━━━━━━━━━━━━━━━\u001b[0m\u001b[37m\u001b[0m \u001b[1m0s\u001b[0m 39ms/step - accuracy: 0.8636 - loss: 0.3611\n",
            "Epoch 19: val_loss improved from 0.35612 to 0.34576, saving model to best_model.keras\n",
            "\u001b[1m186/186\u001b[0m \u001b[32m━━━━━━━━━━━━━━━━━━━━\u001b[0m\u001b[37m\u001b[0m \u001b[1m10s\u001b[0m 52ms/step - accuracy: 0.8636 - loss: 0.3611 - val_accuracy: 0.8695 - val_loss: 0.3458\n",
            "Epoch 20/50\n",
            "\u001b[1m186/186\u001b[0m \u001b[32m━━━━━━━━━━━━━━━━━━━━\u001b[0m\u001b[37m\u001b[0m \u001b[1m0s\u001b[0m 39ms/step - accuracy: 0.8709 - loss: 0.3399\n",
            "Epoch 20: val_loss improved from 0.34576 to 0.31953, saving model to best_model.keras\n",
            "\u001b[1m186/186\u001b[0m \u001b[32m━━━━━━━━━━━━━━━━━━━━\u001b[0m\u001b[37m\u001b[0m \u001b[1m10s\u001b[0m 52ms/step - accuracy: 0.8709 - loss: 0.3399 - val_accuracy: 0.8793 - val_loss: 0.3195\n",
            "Epoch 21/50\n",
            "\u001b[1m185/186\u001b[0m \u001b[32m━━━━━━━━━━━━━━━━━━━\u001b[0m\u001b[37m━\u001b[0m \u001b[1m0s\u001b[0m 39ms/step - accuracy: 0.8708 - loss: 0.3425\n",
            "Epoch 21: val_loss improved from 0.31953 to 0.31363, saving model to best_model.keras\n",
            "\u001b[1m186/186\u001b[0m \u001b[32m━━━━━━━━━━━━━━━━━━━━\u001b[0m\u001b[37m\u001b[0m \u001b[1m10s\u001b[0m 52ms/step - accuracy: 0.8708 - loss: 0.3425 - val_accuracy: 0.8808 - val_loss: 0.3136\n",
            "Epoch 22/50\n",
            "\u001b[1m186/186\u001b[0m \u001b[32m━━━━━━━━━━━━━━━━━━━━\u001b[0m\u001b[37m\u001b[0m \u001b[1m0s\u001b[0m 39ms/step - accuracy: 0.8794 - loss: 0.3181\n",
            "Epoch 22: val_loss did not improve from 0.31363\n",
            "\u001b[1m186/186\u001b[0m \u001b[32m━━━━━━━━━━━━━━━━━━━━\u001b[0m\u001b[37m\u001b[0m \u001b[1m8s\u001b[0m 43ms/step - accuracy: 0.8794 - loss: 0.3181 - val_accuracy: 0.8775 - val_loss: 0.3263\n",
            "Epoch 23/50\n",
            "\u001b[1m185/186\u001b[0m \u001b[32m━━━━━━━━━━━━━━━━━━━\u001b[0m\u001b[37m━\u001b[0m \u001b[1m0s\u001b[0m 39ms/step - accuracy: 0.8815 - loss: 0.3119\n",
            "Epoch 23: val_loss improved from 0.31363 to 0.30054, saving model to best_model.keras\n",
            "\u001b[1m186/186\u001b[0m \u001b[32m━━━━━━━━━━━━━━━━━━━━\u001b[0m\u001b[37m\u001b[0m \u001b[1m10s\u001b[0m 52ms/step - accuracy: 0.8815 - loss: 0.3119 - val_accuracy: 0.8872 - val_loss: 0.3005\n",
            "Epoch 24/50\n",
            "\u001b[1m185/186\u001b[0m \u001b[32m━━━━━━━━━━━━━━━━━━━\u001b[0m\u001b[37m━\u001b[0m \u001b[1m0s\u001b[0m 39ms/step - accuracy: 0.8858 - loss: 0.3009\n",
            "Epoch 24: val_loss improved from 0.30054 to 0.29566, saving model to best_model.keras\n",
            "\u001b[1m186/186\u001b[0m \u001b[32m━━━━━━━━━━━━━━━━━━━━\u001b[0m\u001b[37m\u001b[0m \u001b[1m10s\u001b[0m 53ms/step - accuracy: 0.8857 - loss: 0.3010 - val_accuracy: 0.8880 - val_loss: 0.2957\n",
            "Epoch 25/50\n",
            "\u001b[1m185/186\u001b[0m \u001b[32m━━━━━━━━━━━━━━━━━━━\u001b[0m\u001b[37m━\u001b[0m \u001b[1m0s\u001b[0m 39ms/step - accuracy: 0.8887 - loss: 0.2931\n",
            "Epoch 25: val_loss improved from 0.29566 to 0.29117, saving model to best_model.keras\n",
            "\u001b[1m186/186\u001b[0m \u001b[32m━━━━━━━━━━━━━━━━━━━━\u001b[0m\u001b[37m\u001b[0m \u001b[1m10s\u001b[0m 53ms/step - accuracy: 0.8887 - loss: 0.2931 - val_accuracy: 0.8904 - val_loss: 0.2912\n",
            "Epoch 26/50\n",
            "\u001b[1m186/186\u001b[0m \u001b[32m━━━━━━━━━━━━━━━━━━━━\u001b[0m\u001b[37m\u001b[0m \u001b[1m0s\u001b[0m 39ms/step - accuracy: 0.8895 - loss: 0.2919\n",
            "Epoch 26: val_loss improved from 0.29117 to 0.28321, saving model to best_model.keras\n",
            "\u001b[1m186/186\u001b[0m \u001b[32m━━━━━━━━━━━━━━━━━━━━\u001b[0m\u001b[37m\u001b[0m \u001b[1m10s\u001b[0m 52ms/step - accuracy: 0.8895 - loss: 0.2919 - val_accuracy: 0.8921 - val_loss: 0.2832\n",
            "Epoch 27/50\n",
            "\u001b[1m185/186\u001b[0m \u001b[32m━━━━━━━━━━━━━━━━━━━\u001b[0m\u001b[37m━\u001b[0m \u001b[1m0s\u001b[0m 39ms/step - accuracy: 0.8858 - loss: 0.3030\n",
            "Epoch 27: val_loss did not improve from 0.28321\n",
            "\u001b[1m186/186\u001b[0m \u001b[32m━━━━━━━━━━━━━━━━━━━━\u001b[0m\u001b[37m\u001b[0m \u001b[1m8s\u001b[0m 43ms/step - accuracy: 0.8857 - loss: 0.3033 - val_accuracy: 0.8761 - val_loss: 0.3306\n",
            "Epoch 28/50\n",
            "\u001b[1m185/186\u001b[0m \u001b[32m━━━━━━━━━━━━━━━━━━━\u001b[0m\u001b[37m━\u001b[0m \u001b[1m0s\u001b[0m 39ms/step - accuracy: 0.8810 - loss: 0.3143\n",
            "Epoch 28: val_loss improved from 0.28321 to 0.27113, saving model to best_model.keras\n",
            "\u001b[1m186/186\u001b[0m \u001b[32m━━━━━━━━━━━━━━━━━━━━\u001b[0m\u001b[37m\u001b[0m \u001b[1m10s\u001b[0m 53ms/step - accuracy: 0.8811 - loss: 0.3141 - val_accuracy: 0.8967 - val_loss: 0.2711\n",
            "Epoch 29/50\n",
            "\u001b[1m186/186\u001b[0m \u001b[32m━━━━━━━━━━━━━━━━━━━━\u001b[0m\u001b[37m\u001b[0m \u001b[1m0s\u001b[0m 39ms/step - accuracy: 0.8947 - loss: 0.2773\n",
            "Epoch 29: val_loss improved from 0.27113 to 0.25888, saving model to best_model.keras\n",
            "\u001b[1m186/186\u001b[0m \u001b[32m━━━━━━━━━━━━━━━━━━━━\u001b[0m\u001b[37m\u001b[0m \u001b[1m10s\u001b[0m 53ms/step - accuracy: 0.8947 - loss: 0.2773 - val_accuracy: 0.9017 - val_loss: 0.2589\n",
            "Epoch 30/50\n",
            "\u001b[1m186/186\u001b[0m \u001b[32m━━━━━━━━━━━━━━━━━━━━\u001b[0m\u001b[37m\u001b[0m \u001b[1m0s\u001b[0m 39ms/step - accuracy: 0.9001 - loss: 0.2618\n",
            "Epoch 30: val_loss improved from 0.25888 to 0.24124, saving model to best_model.keras\n",
            "\u001b[1m186/186\u001b[0m \u001b[32m━━━━━━━━━━━━━━━━━━━━\u001b[0m\u001b[37m\u001b[0m \u001b[1m10s\u001b[0m 52ms/step - accuracy: 0.9001 - loss: 0.2618 - val_accuracy: 0.9078 - val_loss: 0.2412\n",
            "Epoch 31/50\n",
            "\u001b[1m185/186\u001b[0m \u001b[32m━━━━━━━━━━━━━━━━━━━\u001b[0m\u001b[37m━\u001b[0m \u001b[1m0s\u001b[0m 39ms/step - accuracy: 0.9058 - loss: 0.2466\n",
            "Epoch 31: val_loss improved from 0.24124 to 0.23338, saving model to best_model.keras\n",
            "\u001b[1m186/186\u001b[0m \u001b[32m━━━━━━━━━━━━━━━━━━━━\u001b[0m\u001b[37m\u001b[0m \u001b[1m10s\u001b[0m 53ms/step - accuracy: 0.9058 - loss: 0.2467 - val_accuracy: 0.9107 - val_loss: 0.2334\n",
            "Epoch 32/50\n",
            "\u001b[1m185/186\u001b[0m \u001b[32m━━━━━━━━━━━━━━━━━━━\u001b[0m\u001b[37m━\u001b[0m \u001b[1m0s\u001b[0m 39ms/step - accuracy: 0.9085 - loss: 0.2389\n",
            "Epoch 32: val_loss improved from 0.23338 to 0.22635, saving model to best_model.keras\n",
            "\u001b[1m186/186\u001b[0m \u001b[32m━━━━━━━━━━━━━━━━━━━━\u001b[0m\u001b[37m\u001b[0m \u001b[1m10s\u001b[0m 52ms/step - accuracy: 0.9085 - loss: 0.2390 - val_accuracy: 0.9133 - val_loss: 0.2264\n",
            "Epoch 33/50\n",
            "\u001b[1m186/186\u001b[0m \u001b[32m━━━━━━━━━━━━━━━━━━━━\u001b[0m\u001b[37m\u001b[0m \u001b[1m0s\u001b[0m 39ms/step - accuracy: 0.9099 - loss: 0.2343\n",
            "Epoch 33: val_loss improved from 0.22635 to 0.22248, saving model to best_model.keras\n",
            "\u001b[1m186/186\u001b[0m \u001b[32m━━━━━━━━━━━━━━━━━━━━\u001b[0m\u001b[37m\u001b[0m \u001b[1m10s\u001b[0m 52ms/step - accuracy: 0.9099 - loss: 0.2343 - val_accuracy: 0.9149 - val_loss: 0.2225\n",
            "Epoch 34/50\n",
            "\u001b[1m185/186\u001b[0m \u001b[32m━━━━━━━━━━━━━━━━━━━\u001b[0m\u001b[37m━\u001b[0m \u001b[1m0s\u001b[0m 39ms/step - accuracy: 0.9124 - loss: 0.2274\n",
            "Epoch 34: val_loss improved from 0.22248 to 0.21150, saving model to best_model.keras\n",
            "\u001b[1m186/186\u001b[0m \u001b[32m━━━━━━━━━━━━━━━━━━━━\u001b[0m\u001b[37m\u001b[0m \u001b[1m10s\u001b[0m 52ms/step - accuracy: 0.9124 - loss: 0.2275 - val_accuracy: 0.9187 - val_loss: 0.2115\n",
            "Epoch 35/50\n",
            "\u001b[1m186/186\u001b[0m \u001b[32m━━━━━━━━━━━━━━━━━━━━\u001b[0m\u001b[37m\u001b[0m \u001b[1m0s\u001b[0m 39ms/step - accuracy: 0.9162 - loss: 0.2173\n",
            "Epoch 35: val_loss did not improve from 0.21150\n",
            "\u001b[1m186/186\u001b[0m \u001b[32m━━━━━━━━━━━━━━━━━━━━\u001b[0m\u001b[37m\u001b[0m \u001b[1m8s\u001b[0m 43ms/step - accuracy: 0.9162 - loss: 0.2174 - val_accuracy: 0.9144 - val_loss: 0.2229\n",
            "Epoch 36/50\n",
            "\u001b[1m185/186\u001b[0m \u001b[32m━━━━━━━━━━━━━━━━━━━\u001b[0m\u001b[37m━\u001b[0m \u001b[1m0s\u001b[0m 39ms/step - accuracy: 0.9122 - loss: 0.2280\n",
            "Epoch 36: val_loss improved from 0.21150 to 0.20970, saving model to best_model.keras\n",
            "\u001b[1m186/186\u001b[0m \u001b[32m━━━━━━━━━━━━━━━━━━━━\u001b[0m\u001b[37m\u001b[0m \u001b[1m10s\u001b[0m 53ms/step - accuracy: 0.9123 - loss: 0.2280 - val_accuracy: 0.9195 - val_loss: 0.2097\n",
            "Epoch 37/50\n",
            "\u001b[1m185/186\u001b[0m \u001b[32m━━━━━━━━━━━━━━━━━━━\u001b[0m\u001b[37m━\u001b[0m \u001b[1m0s\u001b[0m 39ms/step - accuracy: 0.9175 - loss: 0.2134\n",
            "Epoch 37: val_loss improved from 0.20970 to 0.20195, saving model to best_model.keras\n",
            "\u001b[1m186/186\u001b[0m \u001b[32m━━━━━━━━━━━━━━━━━━━━\u001b[0m\u001b[37m\u001b[0m \u001b[1m10s\u001b[0m 52ms/step - accuracy: 0.9175 - loss: 0.2134 - val_accuracy: 0.9220 - val_loss: 0.2020\n",
            "Epoch 38/50\n",
            "\u001b[1m186/186\u001b[0m \u001b[32m━━━━━━━━━━━━━━━━━━━━\u001b[0m\u001b[37m\u001b[0m \u001b[1m0s\u001b[0m 39ms/step - accuracy: 0.9194 - loss: 0.2088\n",
            "Epoch 38: val_loss did not improve from 0.20195\n",
            "\u001b[1m186/186\u001b[0m \u001b[32m━━━━━━━━━━━━━━━━━━━━\u001b[0m\u001b[37m\u001b[0m \u001b[1m8s\u001b[0m 43ms/step - accuracy: 0.9194 - loss: 0.2088 - val_accuracy: 0.9155 - val_loss: 0.2199\n",
            "Epoch 39/50\n",
            "\u001b[1m185/186\u001b[0m \u001b[32m━━━━━━━━━━━━━━━━━━━\u001b[0m\u001b[37m━\u001b[0m \u001b[1m0s\u001b[0m 39ms/step - accuracy: 0.9097 - loss: 0.2360\n",
            "Epoch 39: val_loss did not improve from 0.20195\n",
            "\u001b[1m186/186\u001b[0m \u001b[32m━━━━━━━━━━━━━━━━━━━━\u001b[0m\u001b[37m\u001b[0m \u001b[1m8s\u001b[0m 43ms/step - accuracy: 0.9097 - loss: 0.2361 - val_accuracy: 0.9162 - val_loss: 0.2197\n",
            "Epoch 40/50\n",
            "\u001b[1m185/186\u001b[0m \u001b[32m━━━━━━━━━━━━━━━━━━━\u001b[0m\u001b[37m━\u001b[0m \u001b[1m0s\u001b[0m 39ms/step - accuracy: 0.9158 - loss: 0.2182\n",
            "Epoch 40: val_loss improved from 0.20195 to 0.19598, saving model to best_model.keras\n",
            "\u001b[1m186/186\u001b[0m \u001b[32m━━━━━━━━━━━━━━━━━━━━\u001b[0m\u001b[37m\u001b[0m \u001b[1m10s\u001b[0m 53ms/step - accuracy: 0.9158 - loss: 0.2182 - val_accuracy: 0.9244 - val_loss: 0.1960\n",
            "Epoch 41/50\n",
            "\u001b[1m186/186\u001b[0m \u001b[32m━━━━━━━━━━━━━━━━━━━━\u001b[0m\u001b[37m\u001b[0m \u001b[1m0s\u001b[0m 39ms/step - accuracy: 0.9213 - loss: 0.2028\n",
            "Epoch 41: val_loss improved from 0.19598 to 0.19020, saving model to best_model.keras\n",
            "\u001b[1m186/186\u001b[0m \u001b[32m━━━━━━━━━━━━━━━━━━━━\u001b[0m\u001b[37m\u001b[0m \u001b[1m10s\u001b[0m 52ms/step - accuracy: 0.9213 - loss: 0.2028 - val_accuracy: 0.9263 - val_loss: 0.1902\n",
            "Epoch 42/50\n",
            "\u001b[1m185/186\u001b[0m \u001b[32m━━━━━━━━━━━━━━━━━━━\u001b[0m\u001b[37m━\u001b[0m \u001b[1m0s\u001b[0m 39ms/step - accuracy: 0.9257 - loss: 0.1912\n",
            "Epoch 42: val_loss improved from 0.19020 to 0.17914, saving model to best_model.keras\n",
            "\u001b[1m186/186\u001b[0m \u001b[32m━━━━━━━━━━━━━━━━━━━━\u001b[0m\u001b[37m\u001b[0m \u001b[1m10s\u001b[0m 52ms/step - accuracy: 0.9257 - loss: 0.1912 - val_accuracy: 0.9303 - val_loss: 0.1791\n",
            "Epoch 43/50\n",
            "\u001b[1m185/186\u001b[0m \u001b[32m━━━━━━━━━━━━━━━━━━━\u001b[0m\u001b[37m━\u001b[0m \u001b[1m0s\u001b[0m 39ms/step - accuracy: 0.9249 - loss: 0.1932\n",
            "Epoch 43: val_loss did not improve from 0.17914\n",
            "\u001b[1m186/186\u001b[0m \u001b[32m━━━━━━━━━━━━━━━━━━━━\u001b[0m\u001b[37m\u001b[0m \u001b[1m8s\u001b[0m 43ms/step - accuracy: 0.9249 - loss: 0.1932 - val_accuracy: 0.9297 - val_loss: 0.1812\n",
            "Epoch 44/50\n",
            "\u001b[1m185/186\u001b[0m \u001b[32m━━━━━━━━━━━━━━━━━━━\u001b[0m\u001b[37m━\u001b[0m \u001b[1m0s\u001b[0m 39ms/step - accuracy: 0.9274 - loss: 0.1859\n",
            "Epoch 44: val_loss improved from 0.17914 to 0.17580, saving model to best_model.keras\n",
            "\u001b[1m186/186\u001b[0m \u001b[32m━━━━━━━━━━━━━━━━━━━━\u001b[0m\u001b[37m\u001b[0m \u001b[1m10s\u001b[0m 53ms/step - accuracy: 0.9274 - loss: 0.1859 - val_accuracy: 0.9311 - val_loss: 0.1758\n",
            "Epoch 45/50\n",
            "\u001b[1m185/186\u001b[0m \u001b[32m━━━━━━━━━━━━━━━━━━━\u001b[0m\u001b[37m━\u001b[0m \u001b[1m0s\u001b[0m 39ms/step - accuracy: 0.9303 - loss: 0.1781\n",
            "Epoch 45: val_loss improved from 0.17580 to 0.16382, saving model to best_model.keras\n",
            "\u001b[1m186/186\u001b[0m \u001b[32m━━━━━━━━━━━━━━━━━━━━\u001b[0m\u001b[37m\u001b[0m \u001b[1m10s\u001b[0m 52ms/step - accuracy: 0.9303 - loss: 0.1781 - val_accuracy: 0.9358 - val_loss: 0.1638\n",
            "Epoch 46/50\n",
            "\u001b[1m185/186\u001b[0m \u001b[32m━━━━━━━━━━━━━━━━━━━\u001b[0m\u001b[37m━\u001b[0m \u001b[1m0s\u001b[0m 39ms/step - accuracy: 0.9340 - loss: 0.1681\n",
            "Epoch 46: val_loss improved from 0.16382 to 0.16235, saving model to best_model.keras\n",
            "\u001b[1m186/186\u001b[0m \u001b[32m━━━━━━━━━━━━━━━━━━━━\u001b[0m\u001b[37m\u001b[0m \u001b[1m10s\u001b[0m 52ms/step - accuracy: 0.9340 - loss: 0.1681 - val_accuracy: 0.9367 - val_loss: 0.1623\n",
            "Epoch 47/50\n",
            "\u001b[1m185/186\u001b[0m \u001b[32m━━━━━━━━━━━━━━━━━━━\u001b[0m\u001b[37m━\u001b[0m \u001b[1m0s\u001b[0m 39ms/step - accuracy: 0.9342 - loss: 0.1677\n",
            "Epoch 47: val_loss did not improve from 0.16235\n",
            "\u001b[1m186/186\u001b[0m \u001b[32m━━━━━━━━━━━━━━━━━━━━\u001b[0m\u001b[37m\u001b[0m \u001b[1m8s\u001b[0m 43ms/step - accuracy: 0.9342 - loss: 0.1678 - val_accuracy: 0.9332 - val_loss: 0.1710\n",
            "Epoch 48/50\n",
            "\u001b[1m185/186\u001b[0m \u001b[32m━━━━━━━━━━━━━━━━━━━\u001b[0m\u001b[37m━\u001b[0m \u001b[1m0s\u001b[0m 39ms/step - accuracy: 0.9310 - loss: 0.1760\n",
            "Epoch 48: val_loss did not improve from 0.16235\n",
            "\u001b[1m186/186\u001b[0m \u001b[32m━━━━━━━━━━━━━━━━━━━━\u001b[0m\u001b[37m\u001b[0m \u001b[1m8s\u001b[0m 43ms/step - accuracy: 0.9310 - loss: 0.1760 - val_accuracy: 0.9237 - val_loss: 0.1958\n",
            "Epoch 49/50\n",
            "\u001b[1m185/186\u001b[0m \u001b[32m━━━━━━━━━━━━━━━━━━━\u001b[0m\u001b[37m━\u001b[0m \u001b[1m0s\u001b[0m 39ms/step - accuracy: 0.9086 - loss: 0.2408\n",
            "Epoch 49: val_loss did not improve from 0.16235\n",
            "\u001b[1m186/186\u001b[0m \u001b[32m━━━━━━━━━━━━━━━━━━━━\u001b[0m\u001b[37m\u001b[0m \u001b[1m8s\u001b[0m 43ms/step - accuracy: 0.9084 - loss: 0.2411 - val_accuracy: 0.8886 - val_loss: 0.3106\n",
            "Epoch 50/50\n",
            "\u001b[1m186/186\u001b[0m \u001b[32m━━━━━━━━━━━━━━━━━━━━\u001b[0m\u001b[37m\u001b[0m \u001b[1m0s\u001b[0m 39ms/step - accuracy: 0.9031 - loss: 0.2561\n",
            "Epoch 50: val_loss did not improve from 0.16235\n",
            "\u001b[1m186/186\u001b[0m \u001b[32m━━━━━━━━━━━━━━━━━━━━\u001b[0m\u001b[37m\u001b[0m \u001b[1m8s\u001b[0m 43ms/step - accuracy: 0.9032 - loss: 0.2560 - val_accuracy: 0.9238 - val_loss: 0.1975\n"
          ]
        },
        {
          "data": {
            "text/plain": [
              "<keras.src.callbacks.history.History at 0x79e530212770>"
            ]
          },
          "execution_count": 2,
          "metadata": {},
          "output_type": "execute_result"
        }
      ],
      "source": [
        "import tensorflow as tf\n",
        "from tensorflow.keras.callbacks import ModelCheckpoint\n",
        "import os\n",
        "\n",
        "def unet(input_size=(96, 256, 3)):\n",
        "\n",
        "    inputs=tf.keras.layers.Input(shape=input_size)\n",
        "    downscale1=tf.keras.layers.Conv2D(64,(3,3),strides=(1,1),activation='relu',padding='same') (inputs)\n",
        "    downscale2=tf.keras.layers.Conv2D(64,(3,3),strides=(1,1),activation='relu',padding='same')(downscale1)\n",
        "    maxpool_d1=tf.keras.layers.MaxPool2D(pool_size=(2,2),strides=(2,2),padding='valid') (downscale2)\n",
        "\n",
        "    downscale3=tf.keras.layers.Conv2D(128,(3,3),strides=(1,1),activation='relu',padding='same') (maxpool_d1)\n",
        "    downscale4=tf.keras.layers.Conv2D(128,(3,3),strides=(1,1),activation='relu',padding='same') (downscale3)\n",
        "    maxpool_d2=tf.keras.layers.MaxPool2D(pool_size=(2,2),strides=(2,2),padding='valid') (downscale4)\n",
        "\n",
        "    downscale5=tf.keras.layers.Conv2D(256,(3,3),strides=(1,1),activation='relu',padding='same') (maxpool_d2)\n",
        "    downscale6=tf.keras.layers.Conv2D(256,(3,3),strides=(1,1),activation='relu',padding='same') (downscale5)\n",
        "    maxpool_d3=tf.keras.layers.MaxPool2D(pool_size=(2,2),strides=(2,2),padding='valid') (downscale6)\n",
        "\n",
        "    downscale7=tf.keras.layers.Conv2D(512,(3,3),strides=(1,1),activation='relu',padding='same') (maxpool_d3)\n",
        "    downscale8=tf.keras.layers.Conv2D(512,(3,3),strides=(1,1),activation='relu',padding='same') (downscale7)\n",
        "    maxpool_d4=tf.keras.layers.MaxPool2D(pool_size=(2,2),strides=(2,2),padding='valid') (downscale8)\n",
        "\n",
        "    downscale9=tf.keras.layers.Conv2D(1024,(3,3),strides=(1,1),activation='relu',padding='same') (maxpool_d4)\n",
        "    downscale10=tf.keras.layers.Conv2D(1024,(3,3),strides=(1,1),activation='relu',padding='same') (downscale9)\n",
        "\n",
        "    upscale1 = tf.keras.layers.Conv2DTranspose(512, (2, 2), strides=(2, 2), padding='valid')(downscale10)\n",
        "    upscale1  = tf.keras.layers.concatenate([upscale1, downscale8])\n",
        "    convup1 = tf.keras.layers.Conv2D(512, (3, 3), activation='relu', padding='same')(upscale1)\n",
        "    convup2 = tf.keras.layers.Conv2D(512, (3, 3), activation='relu', padding='same')(convup1)\n",
        "\n",
        "    upscale2 = tf.keras.layers.Conv2DTranspose(256, (2, 2), strides=(2, 2), padding='valid')(convup2)\n",
        "    upscale2 = tf.keras.layers.concatenate([upscale2, downscale6])\n",
        "    convup3 = tf.keras.layers.Conv2D(256, (3, 3), activation='relu', padding='same')(upscale2)\n",
        "    convup4 = tf.keras.layers.Conv2D(256, (3, 3), activation='relu', padding='same')(convup3)\n",
        "\n",
        "    upscale8 = tf.keras.layers.Conv2DTranspose(128, (2, 2), strides=(2, 2), padding='valid')(convup4)\n",
        "    upscale8 = tf.keras.layers.concatenate([upscale8, downscale4])\n",
        "    convup8 = tf.keras.layers.Conv2D(128, (3, 3), activation='relu', padding='same')(upscale8)\n",
        "    convup9 = tf.keras.layers.Conv2D(128, (3, 3), activation='relu', padding='same')(convup8)\n",
        "\n",
        "    upscale9 = tf.keras.layers.Conv2DTranspose(64, (2, 2), strides=(2, 2), padding='valid')(convup9)\n",
        "    upscale9 = tf.keras.layers.concatenate([upscale9, downscale2])\n",
        "    convup9 = tf.keras.layers.Conv2D(64, (3, 3), activation='relu', padding='same')(upscale9)\n",
        "    convup10 = tf.keras.layers.Conv2D(64, (3, 3), activation='relu', padding='same')(convup9)\n",
        "\n",
        "    outputs = tf.keras.layers.Conv2D(8, (1, 1), activation='softmax')(convup10)\n",
        "\n",
        "    model = tf.keras.Model(inputs=inputs, outputs=outputs)\n",
        "    return model\n",
        "\n",
        "\n",
        "unet = unet()\n",
        "unet.compile(optimizer='adam', loss='categorical_crossentropy', metrics=['accuracy'])\n",
        "\n",
        "\n",
        "train_dataset = train_dataset\n",
        "val_dataset = val_dataset\n",
        "\n",
        "\n",
        "def prepare_dataset(dataset, batch_size=16, cache_file=\".cache\"):\n",
        "    return (dataset\n",
        "            .cache(cache_file)\n",
        "            .shuffle(1000)\n",
        "            .batch(batch_size)\n",
        "            .prefetch(tf.data.AUTOTUNE))\n",
        "\n",
        "train_dataset = prepare_dataset(train_dataset)\n",
        "val_dataset = prepare_dataset(val_dataset)\n",
        "\n",
        "\n",
        "checkpoint_callback = ModelCheckpoint(\n",
        "    filepath='best_model.keras',\n",
        "    monitor='val_loss',\n",
        "    mode='min',\n",
        "    save_best_only=True,\n",
        "    verbose=1\n",
        ")\n",
        "\n",
        "\n",
        "\n",
        "unet.fit(\n",
        "    train_dataset,\n",
        "    epochs=50,\n",
        "    validation_data=val_dataset,\n",
        "    callbacks=[checkpoint_callback]\n",
        ")\n"
      ]
    },
    {
      "cell_type": "markdown",
      "metadata": {},
      "source": [
        "#### Miscellaneous part further"
      ]
    },
    {
      "cell_type": "code",
      "execution_count": null,
      "metadata": {
        "id": "Y9gP6JRzapQJ"
      },
      "outputs": [],
      "source": [
        "from sklearn.cluster import DBSCAN\n",
        "from skimage import color\n",
        "import numpy as np\n",
        "from PIL import Image\n",
        "import matplotlib.pyplot as plt\n",
        "import os"
      ]
    },
    {
      "cell_type": "markdown",
      "metadata": {},
      "source": [
        "#### Have a glance at the processed masks"
      ]
    },
    {
      "cell_type": "code",
      "execution_count": null,
      "metadata": {
        "colab": {
          "base_uri": "https://localhost:8080/",
          "height": 113
        },
        "id": "VeFerX5ZtWA_",
        "outputId": "01a91b73-e5fa-49a8-a1ef-2246edb64bb5"
      },
      "outputs": [
        {
          "data": {
            "image/jpeg": "[encoded data removed]",
            "image/png": "[encoded data removed]",
            "text/plain": [
              "<PIL.Image.Image image mode=RGB size=256x96>"
            ]
          },
          "execution_count": 7,
          "metadata": {},
          "output_type": "execute_result"
        }
      ],
      "source": [
        "mask_path=\"/content/drive/MyDrive/city_scapes/train/label/train1.png\"\n",
        "mask = Image.open(mask_path).convert(\"RGB\")\n",
        "mask"
      ]
    },
    {
      "cell_type": "markdown",
      "metadata": {},
      "source": [
        "#### Display colors in the original (not preprocessed) mask labels as a color spectre"
      ]
    },
    {
      "cell_type": "code",
      "execution_count": null,
      "metadata": {
        "colab": {
          "base_uri": "https://localhost:8080/",
          "height": 105
        },
        "id": "U3BD32zDPuFk",
        "outputId": "8be801c8-0b9a-4fdd-88ec-c48c0c41e223"
      },
      "outputs": [
        {
          "data": {
            "image/png": "[encoded data removed]",
            "text/plain": [
              "<Figure size 5000x400 with 1 Axes>"
            ]
          },
          "metadata": {},
          "output_type": "display_data"
        }
      ],
      "source": [
        "'''\n",
        "uniques, counts=np.unique(cluster_colors,axis=0,return_counts=True)\n",
        "height=1\n",
        "width=cluster_colors.shape[0]\n",
        "color_palette = cluster_colors.reshape((height, width, 3))\n",
        "\n",
        "plt.rcParams['figure.figsize'] = [50, 4]\n",
        "# Display the color palette\n",
        "plt.imshow(np.sort(color_palette,axis=1), aspect='auto')\n",
        "plt.axis('off')  # Hide axes\n",
        "plt.show()\n",
        "'''"
      ]
    },
    {
      "cell_type": "markdown",
      "metadata": {},
      "source": [
        "#### Example of the original label mask"
      ]
    },
    {
      "cell_type": "code",
      "execution_count": null,
      "metadata": {
        "id": "cBSD5Od65ZTZ"
      },
      "outputs": [],
      "source": [
        "#!pip install Pylette\n",
        "import Pylette as pyt"
      ]
    },
    {
      "cell_type": "code",
      "execution_count": null,
      "metadata": {
        "colab": {
          "base_uri": "https://localhost:8080/",
          "height": 113
        },
        "id": "wnulF69-FPbk",
        "outputId": "80e9be34-ab99-4d20-d5b9-f441ab4b1ee8"
      },
      "outputs": [
        {
          "data": {
            "image/jpeg": "[encoded data removed]",
            "image/png": "[encoded data removed]",
            "text/plain": [
              "<PIL.Image.Image image mode=RGB size=256x96>"
            ]
          },
          "execution_count": 6,
          "metadata": {},
          "output_type": "execute_result"
        }
      ],
      "source": [
        "mask"
      ]
    },
    {
      "cell_type": "markdown",
      "metadata": {},
      "source": [
        "#### Some RGB codes from the original labels (mostly varying for same colors)"
      ]
    },
    {
      "cell_type": "code",
      "execution_count": null,
      "metadata": {
        "id": "hw_Cgv_8EV0x"
      },
      "outputs": [],
      "source": [
        "\"\"\"\n",
        "dark gray: [68, 70, 69], [69, 69, 70], [68, 70, 69], [69, 70, 70], [69, 69, 69], [70, 70, 70]\n",
        "purple: [126, 63, 127], [[127,  62, 127]], [127,  62, 127], [127,  63, 127], [128,  62, 127]\n",
        "dark green: [ 38, 138, 106], [ 40, 139, 107], [ 39, 139, 106], [ 39, 138, 106], [ 41, 139, 108]\n",
        "lime: [155, 245, 157], [167, 231, 165], [162, 239, 163], [169, 221, 173], [154, 244, 159]\n",
        "red: [129, 6, 13], [132,   7,  12], [137,   1,   2], [136,   2,   3], [135,   3,   7]\n",
        "black: [22, 29, 25], [17,15,17], [12,14,12], [32,27,29], [18,18,18], [25,22,24]\n",
        "dark red: [107,  42,  46],\n",
        "\n",
        "\"\"\""
      ]
    },
    {
      "cell_type": "markdown",
      "metadata": {},
      "source": [
        "#### A function to compute Euclidean distance"
      ]
    },
    {
      "cell_type": "code",
      "execution_count": null,
      "metadata": {
        "colab": {
          "base_uri": "https://localhost:8080/",
          "height": 107
        },
        "id": "49YhPX-OPyml",
        "outputId": "83fcaa85-43a3-4967-fd7c-808a395f43e4"
      },
      "outputs": [
        {
          "data": {
            "application/vnd.google.colaboratory.intrinsic+json": {
              "type": "string"
            },
            "text/plain": [
              "'\\naveraged_colors=[]\\niteration=colorset.copy()\\nunclassified=0\\n\\nfor i in iteration:\\n  if i not in colorset or len(colorset)==0:\\n    continue\\n\\n  ind=ecld(i,colorset, threshold=16)\\n  print(ind)\\n  if len(ind[0])==0:\\n    continue\\n\\n  color_avg=np.average(colorset[ind[0]],axis=0)\\n  color_avg=np.asarray(list(map(int,color_avg))).reshape((-1,3))\\n  averaged_colors.append(color_avg)\\n  colorset=np.delete(colorset,ind,axis=0)\\n#for i in colorset[ind]:\\n#  temp=np.asarray([[i]])\\n#  print(temp)\\n#  plt.imshow(temp)\\n#  plt.show()\\n\\naveraged_colors=np.stack(averaged_colors)\\n'"
            ]
          },
          "execution_count": 8,
          "metadata": {},
          "output_type": "execute_result"
        }
      ],
      "source": [
        "import numpy as np\n",
        "import matplotlib.pyplot as plt\n",
        "\n",
        "def ecld(x,y,threshold=25):\n",
        "  try:\n",
        "    x=np.asarray(x).reshape((-1,3))\n",
        "    y=np.asarray(y).reshape((-1,3))\n",
        "\n",
        "  except ValueError:\n",
        "    return 'Incompatible dimensions'\n",
        "  if len(x)!=len(y):\n",
        "    if len(x)<len(y):\n",
        "      x=np.repeat(x,len(y),axis=0)\n",
        "      sqdifference=np.sqrt(np.sum(np.square(y-x),axis=1))\n",
        "      indices=np.where(sqdifference<threshold)\n",
        "      return (sqdifference,indices)\n",
        "\n",
        "    else:\n",
        "      y=np.repeat(y,len(x),axis=0)\n",
        "      sqdifference=np.sqrt(np.sum(np.square(x-y),axis=1))\n",
        "      indices=np.where(sqdifference<threshold)\n",
        "      return indices\n",
        "\n",
        "  x=np.repeat(x,len(y),axis=0)\n",
        "  sqdifference=np.sqrt(np.sum(np.square(y-x),axis=1))\n",
        "  indices=np.where(sqdifference<threshold)\n",
        "  return (sqdifference,indices)"
      ]
    }
  ],
  "metadata": {
    "accelerator": "GPU",
    "colab": {
      "gpuType": "A100",
      "machine_shape": "hm",
      "provenance": []
    },
    "kernelspec": {
      "display_name": "Python 3",
      "name": "python3"
    },
    "language_info": {
      "name": "python"
    }
  },
  "nbformat": 4,
  "nbformat_minor": 0
}
